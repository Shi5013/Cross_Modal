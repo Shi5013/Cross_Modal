{
 "cells": [
  {
   "cell_type": "code",
   "execution_count": 4,
   "metadata": {},
   "outputs": [
    {
     "name": "stdout",
     "output_type": "stream",
     "text": [
      "[tensor([0, 1]), tensor([0, 1, 2, 3]), tensor([0, 1, 2])]\n",
      "<class 'list'>\n"
     ]
    }
   ],
   "source": [
    "import torch\n",
    "ss = [2,4,3]\n",
    "a = [torch.arange(0, s) for s in ss]\n",
    "print(a)\n",
    "print(type(a))"
   ]
  },
  {
   "cell_type": "code",
   "execution_count": 9,
   "metadata": {},
   "outputs": [
    {
     "name": "stdout",
     "output_type": "stream",
     "text": [
      "tensor([[[ 1,  2,  3],\n",
      "         [ 4,  5,  6],\n",
      "         [ 7,  8,  9]],\n",
      "\n",
      "        [[10, 20, 30],\n",
      "         [40, 50, 60],\n",
      "         [70, 80, 90]]])\n"
     ]
    }
   ],
   "source": [
    " # 假设是时间步T1\n",
    "T1 = torch.tensor([[1, 2, 3],\n",
    "                 [4, 5, 6],\n",
    "                 [7, 8, 9]])\n",
    " # 假设是时间步T2\n",
    "T2 = torch.tensor([[10, 20, 30],\n",
    "                 [40, 50, 60],\n",
    "                 [70, 80, 90]])\n",
    "\n",
    "a = torch.stack((T1,T2),dim=0)\n",
    "# a = torch.stack((T1,T2)) # 不写第二个参数的话，默认是0\n",
    "print(a)"
   ]
  },
  {
   "cell_type": "code",
   "execution_count": 11,
   "metadata": {},
   "outputs": [
    {
     "name": "stdout",
     "output_type": "stream",
     "text": [
      "torch.Size([1, 3, 32, 32, 16])\n"
     ]
    }
   ],
   "source": [
    "size = (32,32,16)\n",
    "vectors = [torch.arange(0, s) for s in size]\n",
    "grids = torch.meshgrid(vectors)\n",
    "grid = torch.stack(grids)\n",
    "grid = torch.unsqueeze(grid, 0) # 增加一个维度 \n",
    "grid = grid.type(torch.FloatTensor)\n",
    "print(grid.size())"
   ]
  },
  {
   "cell_type": "code",
   "execution_count": 12,
   "metadata": {},
   "outputs": [
    {
     "name": "stdout",
     "output_type": "stream",
     "text": [
      "tensor([[ 0.5722,  0.3477],\n",
      "        [-0.0857,  2.4341]])\n",
      "tensor([[-0.2455, -1.7906],\n",
      "        [ 0.7803, -1.0738]])\n",
      "Loss: 4.574143409729004\n"
     ]
    }
   ],
   "source": [
    "import torch\n",
    "import torch.nn.functional as F\n",
    "\n",
    "# 假设你的预测结果和目标标签是两个五维的张量\n",
    "predictions = torch.randn(2,2)\n",
    "targets = torch.randn(2,2)\n",
    "\n",
    "print(predictions)\n",
    "print(targets)\n",
    "# # 使用均方误差损失计算损失\n",
    "# loss = F.mse_loss(predictions, targets)\n",
    "\n",
    "# 或者使用均方误差损失类\n",
    "loss_fn = torch.nn.MSELoss()\n",
    "loss = loss_fn(predictions, targets)\n",
    "\n",
    "# 打印损失值\n",
    "print(\"Loss:\", loss.item())\n"
   ]
  },
  {
   "cell_type": "code",
   "execution_count": null,
   "metadata": {},
   "outputs": [],
   "source": [
    "import os\n",
    "file = '/media/user_gou/Elements/Shi/Attention-Reg-macos/draft/SPT.py'\n",
    "dir = os.path.dirname(file)\n",
    "print(dir)\n",
    "\n",
    "\n"
   ]
  },
  {
   "cell_type": "code",
   "execution_count": null,
   "metadata": {},
   "outputs": [],
   "source": []
  }
 ],
 "metadata": {
  "kernelspec": {
   "display_name": "voxelmorph",
   "language": "python",
   "name": "python3"
  },
  "language_info": {
   "codemirror_mode": {
    "name": "ipython",
    "version": 3
   },
   "file_extension": ".py",
   "mimetype": "text/x-python",
   "name": "python",
   "nbconvert_exporter": "python",
   "pygments_lexer": "ipython3",
   "version": "3.10.13"
  }
 },
 "nbformat": 4,
 "nbformat_minor": 2
}
